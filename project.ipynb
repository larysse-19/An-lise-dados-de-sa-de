{
 "cells": [
  {
   "cell_type": "code",
   "execution_count": 4,
   "metadata": {},
   "outputs": [],
   "source": [
    "import pandas as pd"
   ]
  },
  {
   "cell_type": "code",
   "execution_count": 7,
   "metadata": {},
   "outputs": [
    {
     "name": "stderr",
     "output_type": "stream",
     "text": [
      "C:\\Users\\Maria Larysse\\AppData\\Local\\Temp\\ipykernel_7492\\481967360.py:1: FutureWarning: The error_bad_lines argument has been deprecated and will be removed in a future version. Use on_bad_lines in the future.\n",
      "\n",
      "\n",
      "  df = pd.read_csv(r\"C:\\Users\\Maria Larysse\\Desktop\\Curso_Python_Pandas_Digital_Innovation-master\\datasets\\Gapminder.csv\", error_bad_lines=False)\n",
      "Skipping line 665: expected 1 fields, saw 2\n",
      "Skipping line 666: expected 1 fields, saw 2\n",
      "Skipping line 667: expected 1 fields, saw 2\n",
      "Skipping line 668: expected 1 fields, saw 2\n",
      "Skipping line 669: expected 1 fields, saw 2\n",
      "Skipping line 670: expected 1 fields, saw 2\n",
      "Skipping line 671: expected 1 fields, saw 2\n",
      "Skipping line 672: expected 1 fields, saw 2\n",
      "Skipping line 673: expected 1 fields, saw 2\n",
      "Skipping line 674: expected 1 fields, saw 2\n",
      "Skipping line 675: expected 1 fields, saw 2\n",
      "Skipping line 676: expected 1 fields, saw 2\n",
      "Skipping line 677: expected 1 fields, saw 2\n",
      "Skipping line 678: expected 1 fields, saw 2\n",
      "Skipping line 679: expected 1 fields, saw 2\n",
      "Skipping line 680: expected 1 fields, saw 2\n",
      "Skipping line 681: expected 1 fields, saw 2\n",
      "Skipping line 682: expected 1 fields, saw 2\n",
      "Skipping line 683: expected 1 fields, saw 2\n",
      "Skipping line 684: expected 1 fields, saw 2\n",
      "Skipping line 685: expected 1 fields, saw 2\n",
      "Skipping line 686: expected 1 fields, saw 2\n",
      "Skipping line 687: expected 1 fields, saw 2\n",
      "Skipping line 688: expected 1 fields, saw 2\n",
      "Skipping line 1275: expected 1 fields, saw 2\n",
      "Skipping line 1276: expected 1 fields, saw 2\n",
      "Skipping line 1277: expected 1 fields, saw 2\n",
      "Skipping line 1278: expected 1 fields, saw 2\n",
      "Skipping line 1279: expected 1 fields, saw 2\n",
      "Skipping line 1280: expected 1 fields, saw 2\n",
      "Skipping line 1281: expected 1 fields, saw 2\n",
      "Skipping line 1282: expected 1 fields, saw 2\n",
      "Skipping line 1283: expected 1 fields, saw 2\n",
      "Skipping line 1284: expected 1 fields, saw 2\n",
      "Skipping line 1285: expected 1 fields, saw 2\n",
      "Skipping line 1286: expected 1 fields, saw 2\n",
      "Skipping line 1629: expected 1 fields, saw 2\n",
      "Skipping line 1630: expected 1 fields, saw 2\n",
      "Skipping line 1631: expected 1 fields, saw 2\n",
      "Skipping line 1632: expected 1 fields, saw 2\n",
      "Skipping line 1633: expected 1 fields, saw 2\n",
      "Skipping line 1634: expected 1 fields, saw 2\n",
      "Skipping line 1635: expected 1 fields, saw 2\n",
      "Skipping line 1636: expected 1 fields, saw 2\n",
      "Skipping line 1637: expected 1 fields, saw 2\n",
      "Skipping line 1638: expected 1 fields, saw 2\n",
      "Skipping line 1639: expected 1 fields, saw 2\n",
      "Skipping line 1640: expected 1 fields, saw 2\n",
      "Skipping line 1641: expected 1 fields, saw 2\n",
      "Skipping line 1642: expected 1 fields, saw 2\n",
      "Skipping line 1643: expected 1 fields, saw 2\n",
      "Skipping line 1644: expected 1 fields, saw 2\n",
      "Skipping line 1645: expected 1 fields, saw 2\n",
      "Skipping line 1646: expected 1 fields, saw 2\n",
      "Skipping line 1647: expected 1 fields, saw 2\n",
      "Skipping line 1648: expected 1 fields, saw 2\n",
      "Skipping line 1649: expected 1 fields, saw 2\n",
      "Skipping line 1650: expected 1 fields, saw 2\n",
      "Skipping line 1651: expected 1 fields, saw 2\n",
      "Skipping line 1652: expected 1 fields, saw 2\n",
      "Skipping line 1823: expected 1 fields, saw 2\n",
      "Skipping line 1824: expected 1 fields, saw 2\n",
      "Skipping line 1825: expected 1 fields, saw 2\n",
      "Skipping line 1826: expected 1 fields, saw 2\n",
      "Skipping line 1827: expected 1 fields, saw 2\n",
      "Skipping line 1828: expected 1 fields, saw 2\n",
      "Skipping line 1829: expected 1 fields, saw 2\n",
      "Skipping line 1830: expected 1 fields, saw 2\n",
      "Skipping line 1935: expected 1 fields, saw 2\n",
      "Skipping line 1936: expected 1 fields, saw 2\n",
      "Skipping line 1937: expected 1 fields, saw 2\n",
      "Skipping line 1938: expected 1 fields, saw 2\n",
      "Skipping line 1939: expected 1 fields, saw 2\n",
      "Skipping line 1940: expected 1 fields, saw 2\n",
      "Skipping line 1941: expected 1 fields, saw 2\n",
      "Skipping line 1942: expected 1 fields, saw 2\n",
      "Skipping line 3278: expected 1 fields, saw 2\n",
      "Skipping line 3279: expected 1 fields, saw 2\n",
      "Skipping line 3280: expected 1 fields, saw 2\n",
      "Skipping line 3281: expected 1 fields, saw 2\n",
      "Skipping line 3282: expected 1 fields, saw 2\n",
      "Skipping line 3283: expected 1 fields, saw 2\n",
      "Skipping line 3284: expected 1 fields, saw 2\n",
      "Skipping line 3285: expected 1 fields, saw 2\n",
      "Skipping line 3286: expected 1 fields, saw 2\n",
      "Skipping line 3287: expected 1 fields, saw 2\n",
      "Skipping line 3288: expected 1 fields, saw 2\n",
      "Skipping line 3289: expected 1 fields, saw 2\n",
      "\n"
     ]
    }
   ],
   "source": [
    "df = pd.read_csv(r\"C:\\Users\\Maria Larysse\\Desktop\\Curso_Python_Pandas_Digital_Innovation-master\\datasets\\Gapminder.csv\", error_bad_lines=False)"
   ]
  },
  {
   "cell_type": "markdown",
   "metadata": {},
   "source": []
  }
 ],
 "metadata": {
  "kernelspec": {
   "display_name": "Python 3.10.8 64-bit",
   "language": "python",
   "name": "python3"
  },
  "language_info": {
   "codemirror_mode": {
    "name": "ipython",
    "version": 3
   },
   "file_extension": ".py",
   "mimetype": "text/x-python",
   "name": "python",
   "nbconvert_exporter": "python",
   "pygments_lexer": "ipython3",
   "version": "3.10.8"
  },
  "orig_nbformat": 4,
  "vscode": {
   "interpreter": {
    "hash": "0101e9626893dd5715b7107fc2261c5586ab063672fab4e9023765b77282d932"
   }
  }
 },
 "nbformat": 4,
 "nbformat_minor": 2
}
