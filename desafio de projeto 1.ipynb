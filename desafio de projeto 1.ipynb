{
 "cells": [
  {
   "cell_type": "code",
   "execution_count": 61,
   "metadata": {},
   "outputs": [],
   "source": [
    "import pandas as pd\n",
    "import matplotlib.pyplot as plt"
   ]
  },
  {
   "cell_type": "code",
   "execution_count": 62,
   "metadata": {},
   "outputs": [],
   "source": [
    "df = pd.read_excel(r\"C:\\Users\\Maria Larysse\\Downloads\\UBS.xlsx\")"
   ]
  },
  {
   "cell_type": "code",
   "execution_count": 63,
   "metadata": {},
   "outputs": [
    {
     "name": "stdout",
     "output_type": "stream",
     "text": [
      "<class 'pandas.core.frame.DataFrame'>\n",
      "RangeIndex: 40433 entries, 0 to 40432\n",
      "Data columns (total 8 columns):\n",
      " #   Column      Non-Null Count  Dtype  \n",
      "---  ------      --------------  -----  \n",
      " 0   CNES        40433 non-null  int64  \n",
      " 1   UF          40433 non-null  int64  \n",
      " 2   IBGE        40433 non-null  int64  \n",
      " 3   NOME        40432 non-null  object \n",
      " 4   LOGRADOURO  40433 non-null  object \n",
      " 5   BAIRRO      40433 non-null  object \n",
      " 6   LATITUDE    40294 non-null  float64\n",
      " 7   LONGITUDE   40301 non-null  float64\n",
      "dtypes: float64(2), int64(3), object(3)\n",
      "memory usage: 2.5+ MB\n"
     ]
    }
   ],
   "source": [
    "df.info()"
   ]
  },
  {
   "cell_type": "code",
   "execution_count": 64,
   "metadata": {},
   "outputs": [],
   "source": [
    "df.drop(columns=[\"LATITUDE\", \"LONGITUDE\"], inplace=True)"
   ]
  },
  {
   "cell_type": "code",
   "execution_count": 65,
   "metadata": {},
   "outputs": [
    {
     "name": "stdout",
     "output_type": "stream",
     "text": [
      "<class 'pandas.core.frame.DataFrame'>\n",
      "RangeIndex: 40433 entries, 0 to 40432\n",
      "Data columns (total 6 columns):\n",
      " #   Column      Non-Null Count  Dtype \n",
      "---  ------      --------------  ----- \n",
      " 0   CNES        40433 non-null  int64 \n",
      " 1   UF          40433 non-null  int64 \n",
      " 2   IBGE        40433 non-null  int64 \n",
      " 3   NOME        40432 non-null  object\n",
      " 4   LOGRADOURO  40433 non-null  object\n",
      " 5   BAIRRO      40433 non-null  object\n",
      "dtypes: int64(3), object(3)\n",
      "memory usage: 1.9+ MB\n"
     ]
    }
   ],
   "source": [
    "df.info()"
   ]
  },
  {
   "cell_type": "code",
   "execution_count": 66,
   "metadata": {},
   "outputs": [
    {
     "data": {
      "text/html": [
       "<div>\n",
       "<style scoped>\n",
       "    .dataframe tbody tr th:only-of-type {\n",
       "        vertical-align: middle;\n",
       "    }\n",
       "\n",
       "    .dataframe tbody tr th {\n",
       "        vertical-align: top;\n",
       "    }\n",
       "\n",
       "    .dataframe thead th {\n",
       "        text-align: right;\n",
       "    }\n",
       "</style>\n",
       "<table border=\"1\" class=\"dataframe\">\n",
       "  <thead>\n",
       "    <tr style=\"text-align: right;\">\n",
       "      <th></th>\n",
       "      <th>CNES</th>\n",
       "      <th>UF</th>\n",
       "      <th>IBGE</th>\n",
       "      <th>NOME</th>\n",
       "      <th>LOGRADOURO</th>\n",
       "      <th>BAIRRO</th>\n",
       "    </tr>\n",
       "  </thead>\n",
       "  <tbody>\n",
       "    <tr>\n",
       "      <th>30296</th>\n",
       "      <td>9041982</td>\n",
       "      <td>43</td>\n",
       "      <td>430220</td>\n",
       "      <td>POSTO DE SAUDE CENTRAL BVB</td>\n",
       "      <td>RUA JACOB SCHNEIDER</td>\n",
       "      <td>CENTRO</td>\n",
       "    </tr>\n",
       "    <tr>\n",
       "      <th>27229</th>\n",
       "      <td>2381478</td>\n",
       "      <td>52</td>\n",
       "      <td>520500</td>\n",
       "      <td>UNIDADE BASICA DE SAUDE DR ODESVALDO OLINTO SA...</td>\n",
       "      <td>AV NOSSA SENHORA DO CARMO</td>\n",
       "      <td>CENTRO</td>\n",
       "    </tr>\n",
       "    <tr>\n",
       "      <th>39035</th>\n",
       "      <td>6332501</td>\n",
       "      <td>35</td>\n",
       "      <td>355030</td>\n",
       "      <td>UBS VILA MARCELO</td>\n",
       "      <td>RUA AMADO BENEDITO VILAS BOAS</td>\n",
       "      <td>VILA MARCELO</td>\n",
       "    </tr>\n",
       "    <tr>\n",
       "      <th>35248</th>\n",
       "      <td>2073544</td>\n",
       "      <td>35</td>\n",
       "      <td>350090</td>\n",
       "      <td>ESF JOAO GONCALVES</td>\n",
       "      <td>RUA ULISSES FRANCISCO DE OLIVEIRA</td>\n",
       "      <td>RESIDENCIAL SANTA MA</td>\n",
       "    </tr>\n",
       "    <tr>\n",
       "      <th>38605</th>\n",
       "      <td>2506300</td>\n",
       "      <td>29</td>\n",
       "      <td>292300</td>\n",
       "      <td>PSF 006 ANALIA RAMOS BARRETO</td>\n",
       "      <td>AVENIDA MINAS GERAIS</td>\n",
       "      <td>CAMPO VERDE POSTO</td>\n",
       "    </tr>\n",
       "    <tr>\n",
       "      <th>32181</th>\n",
       "      <td>9849041</td>\n",
       "      <td>33</td>\n",
       "      <td>330455</td>\n",
       "      <td>CENTRO MEDICO CABB</td>\n",
       "      <td>RUA AIARA</td>\n",
       "      <td>HIGIENOPOLIS</td>\n",
       "    </tr>\n",
       "    <tr>\n",
       "      <th>32025</th>\n",
       "      <td>9758356</td>\n",
       "      <td>42</td>\n",
       "      <td>420290</td>\n",
       "      <td>SERVICO DE ATENCAO DOMICILIAR</td>\n",
       "      <td>RUA PREFEITO GERMANO SCHAEFER</td>\n",
       "      <td>CENTRO</td>\n",
       "    </tr>\n",
       "    <tr>\n",
       "      <th>38282</th>\n",
       "      <td>960470</td>\n",
       "      <td>26</td>\n",
       "      <td>260320</td>\n",
       "      <td>USF MORUMBI</td>\n",
       "      <td>RUA MORUMBI</td>\n",
       "      <td>CENTRO</td>\n",
       "    </tr>\n",
       "    <tr>\n",
       "      <th>28114</th>\n",
       "      <td>7423489</td>\n",
       "      <td>53</td>\n",
       "      <td>530010</td>\n",
       "      <td>UBS 12 SAO JOSE SAO SEBASTIAO</td>\n",
       "      <td>QD 31 CASA 6 BAIRRO SAO JOSE SAO SEBASTIAO DF</td>\n",
       "      <td>SAO JOSE</td>\n",
       "    </tr>\n",
       "    <tr>\n",
       "      <th>32326</th>\n",
       "      <td>9915672</td>\n",
       "      <td>42</td>\n",
       "      <td>421610</td>\n",
       "      <td>CENTRO DE SAUDE BAIRRO ARI BORTOLI</td>\n",
       "      <td>RUA RICARDO BORTOLI</td>\n",
       "      <td>ARI BORTOLI</td>\n",
       "    </tr>\n",
       "  </tbody>\n",
       "</table>\n",
       "</div>"
      ],
      "text/plain": [
       "          CNES  UF    IBGE                                               NOME  \\\n",
       "30296  9041982  43  430220                         POSTO DE SAUDE CENTRAL BVB   \n",
       "27229  2381478  52  520500  UNIDADE BASICA DE SAUDE DR ODESVALDO OLINTO SA...   \n",
       "39035  6332501  35  355030                                   UBS VILA MARCELO   \n",
       "35248  2073544  35  350090                                 ESF JOAO GONCALVES   \n",
       "38605  2506300  29  292300                       PSF 006 ANALIA RAMOS BARRETO   \n",
       "32181  9849041  33  330455                                 CENTRO MEDICO CABB   \n",
       "32025  9758356  42  420290                      SERVICO DE ATENCAO DOMICILIAR   \n",
       "38282   960470  26  260320                                        USF MORUMBI   \n",
       "28114  7423489  53  530010                      UBS 12 SAO JOSE SAO SEBASTIAO   \n",
       "32326  9915672  42  421610                 CENTRO DE SAUDE BAIRRO ARI BORTOLI   \n",
       "\n",
       "                                          LOGRADOURO                BAIRRO  \n",
       "30296                            RUA JACOB SCHNEIDER                CENTRO  \n",
       "27229                      AV NOSSA SENHORA DO CARMO                CENTRO  \n",
       "39035                  RUA AMADO BENEDITO VILAS BOAS          VILA MARCELO  \n",
       "35248              RUA ULISSES FRANCISCO DE OLIVEIRA  RESIDENCIAL SANTA MA  \n",
       "38605                           AVENIDA MINAS GERAIS     CAMPO VERDE POSTO  \n",
       "32181                                      RUA AIARA          HIGIENOPOLIS  \n",
       "32025                  RUA PREFEITO GERMANO SCHAEFER                CENTRO  \n",
       "38282                                    RUA MORUMBI                CENTRO  \n",
       "28114  QD 31 CASA 6 BAIRRO SAO JOSE SAO SEBASTIAO DF              SAO JOSE  \n",
       "32326                            RUA RICARDO BORTOLI           ARI BORTOLI  "
      ]
     },
     "execution_count": 66,
     "metadata": {},
     "output_type": "execute_result"
    }
   ],
   "source": [
    "df.sample(10)"
   ]
  },
  {
   "cell_type": "code",
   "execution_count": 67,
   "metadata": {},
   "outputs": [
    {
     "data": {
      "text/plain": [
       "array(['NOVO MUNDO', 'PONTE DOS CARVALHOS', 'CHARNECA', ..., 'D JOAO VI',\n",
       "       'CURACA NH3', 'JDM BELA SAO PEDRO'], dtype=object)"
      ]
     },
     "execution_count": 67,
     "metadata": {},
     "output_type": "execute_result"
    }
   ],
   "source": [
    "df[\"BAIRRO\"].unique()"
   ]
  },
  {
   "cell_type": "code",
   "execution_count": 68,
   "metadata": {},
   "outputs": [
    {
     "data": {
      "text/plain": [
       "BAIRRO\n",
       "0                     3\n",
       "1                     1\n",
       "10                    1\n",
       "120                   1\n",
       "135                   1\n",
       "                     ..\n",
       "ZUMBI DO PACHECO      2\n",
       "ZUMBI DOS PALMARES    6\n",
       "ZUNA RURAL            1\n",
       "ZUZA HOLANDA          1\n",
       "ZUZA MARTINS          1\n",
       "Name: NOME, Length: 14421, dtype: int64"
      ]
     },
     "execution_count": 68,
     "metadata": {},
     "output_type": "execute_result"
    }
   ],
   "source": [
    "df.groupby(\"BAIRRO\")[\"NOME\"].nunique()"
   ]
  },
  {
   "cell_type": "code",
   "execution_count": 69,
   "metadata": {},
   "outputs": [
    {
     "data": {
      "text/plain": [
       "UF\n",
       "11     279\n",
       "12     228\n",
       "13     570\n",
       "14     130\n",
       "15    1560\n",
       "16     138\n",
       "17     431\n",
       "21    1961\n",
       "22    1096\n",
       "23    2094\n",
       "24     967\n",
       "25    1463\n",
       "26    2440\n",
       "27     879\n",
       "28     489\n",
       "29    3722\n",
       "31    5043\n",
       "32     812\n",
       "33    1798\n",
       "35    4954\n",
       "41    1932\n",
       "42    1587\n",
       "43    1904\n",
       "50     602\n",
       "51     891\n",
       "52    1307\n",
       "53     177\n",
       "Name: NOME, dtype: int64"
      ]
     },
     "execution_count": 69,
     "metadata": {},
     "output_type": "execute_result"
    }
   ],
   "source": [
    "df.groupby(\"UF\")[\"NOME\"].nunique()"
   ]
  },
  {
   "cell_type": "code",
   "execution_count": 70,
   "metadata": {},
   "outputs": [],
   "source": [
    "uf= {11:\"RO\",12:\"AC\",13:\"AM\",14:\"RR\",15:\"PA\",16:\"AP\",17:\"TO\",21:\"MA\",22:\"PI\",23:\"CE\",24:\"RN\",25:\"PB\",26:\"PE\",27:\"AL\",28:\"SE\",29:\"BA\",31:\"MG\",32:\"ES\",33:\"RJ\",35:\"SP\",41:\"PR\",42:\"SC\",43:\"RS\",50:\"MS\",51:\"MT\",52:\"GO\",53:\"DF\"}"
   ]
  },
  {
   "cell_type": "code",
   "execution_count": 71,
   "metadata": {},
   "outputs": [],
   "source": [
    "df[\"UF\"] = df[\"UF\"].replace(uf)"
   ]
  },
  {
   "cell_type": "code",
   "execution_count": 72,
   "metadata": {},
   "outputs": [
    {
     "data": {
      "text/html": [
       "<div>\n",
       "<style scoped>\n",
       "    .dataframe tbody tr th:only-of-type {\n",
       "        vertical-align: middle;\n",
       "    }\n",
       "\n",
       "    .dataframe tbody tr th {\n",
       "        vertical-align: top;\n",
       "    }\n",
       "\n",
       "    .dataframe thead th {\n",
       "        text-align: right;\n",
       "    }\n",
       "</style>\n",
       "<table border=\"1\" class=\"dataframe\">\n",
       "  <thead>\n",
       "    <tr style=\"text-align: right;\">\n",
       "      <th></th>\n",
       "      <th>CNES</th>\n",
       "      <th>UF</th>\n",
       "      <th>IBGE</th>\n",
       "      <th>NOME</th>\n",
       "      <th>LOGRADOURO</th>\n",
       "      <th>BAIRRO</th>\n",
       "    </tr>\n",
       "  </thead>\n",
       "  <tbody>\n",
       "    <tr>\n",
       "      <th>32353</th>\n",
       "      <td>7342268</td>\n",
       "      <td>MG</td>\n",
       "      <td>316045</td>\n",
       "      <td>UBS ANA COSTA</td>\n",
       "      <td>COMUNIDADE DA CAROBA</td>\n",
       "      <td>ZONA RURAL</td>\n",
       "    </tr>\n",
       "    <tr>\n",
       "      <th>21657</th>\n",
       "      <td>5020158</td>\n",
       "      <td>SP</td>\n",
       "      <td>352410</td>\n",
       "      <td>PSF ALCIDES GARCIA MESQUITA JUNIOR BICAO</td>\n",
       "      <td>RUA LUIZ ARO</td>\n",
       "      <td>JARDIM INDEPENDENCIA</td>\n",
       "    </tr>\n",
       "    <tr>\n",
       "      <th>26206</th>\n",
       "      <td>2045362</td>\n",
       "      <td>SP</td>\n",
       "      <td>354870</td>\n",
       "      <td>UBS JORDANOPOLIS</td>\n",
       "      <td>RUA OSWALDO CRUZ</td>\n",
       "      <td>JORDANOPOLIS</td>\n",
       "    </tr>\n",
       "    <tr>\n",
       "      <th>24944</th>\n",
       "      <td>6510345</td>\n",
       "      <td>PA</td>\n",
       "      <td>150260</td>\n",
       "      <td>UNIDADE DE SAUDE DA FAMILIA DE JANGOLANDIA</td>\n",
       "      <td>AVENIDA NOSSA SENHORA DA CONCEICAO</td>\n",
       "      <td>JANGOLANDIA</td>\n",
       "    </tr>\n",
       "    <tr>\n",
       "      <th>17234</th>\n",
       "      <td>2771950</td>\n",
       "      <td>BA</td>\n",
       "      <td>290460</td>\n",
       "      <td>UNIDADE DE SAUDE DA FAMILIA RAIMUNDO FERNANDES</td>\n",
       "      <td>VILA DE UBIRACABA</td>\n",
       "      <td>ZONA RURAL</td>\n",
       "    </tr>\n",
       "    <tr>\n",
       "      <th>29785</th>\n",
       "      <td>7907281</td>\n",
       "      <td>CE</td>\n",
       "      <td>230440</td>\n",
       "      <td>UAPS RONALDO DE ALBUQUERQUE RIBEIRO</td>\n",
       "      <td>AVENIDA I</td>\n",
       "      <td>GENIBAU</td>\n",
       "    </tr>\n",
       "    <tr>\n",
       "      <th>28537</th>\n",
       "      <td>7504853</td>\n",
       "      <td>RJ</td>\n",
       "      <td>330330</td>\n",
       "      <td>MMF DA TEIXEIRA DE FREITAS DR ANTONIO PECANHA</td>\n",
       "      <td>RUA TEIXEIRA DE FREITAS</td>\n",
       "      <td>FONSECA</td>\n",
       "    </tr>\n",
       "    <tr>\n",
       "      <th>5951</th>\n",
       "      <td>2234742</td>\n",
       "      <td>RS</td>\n",
       "      <td>431642</td>\n",
       "      <td>POSTO DE SAUDE LINHA ARDENGHI INTERIOR</td>\n",
       "      <td>LINHA ARDENGHI</td>\n",
       "      <td>INTERIOR</td>\n",
       "    </tr>\n",
       "    <tr>\n",
       "      <th>4627</th>\n",
       "      <td>2147777</td>\n",
       "      <td>MG</td>\n",
       "      <td>312970</td>\n",
       "      <td>PSF OLAVO PINTO CUNHA</td>\n",
       "      <td>TRAVESSA JOAQUIM RIBEIRO</td>\n",
       "      <td>ZONA RURAL</td>\n",
       "    </tr>\n",
       "    <tr>\n",
       "      <th>38746</th>\n",
       "      <td>2479745</td>\n",
       "      <td>CE</td>\n",
       "      <td>231350</td>\n",
       "      <td>UNIDADE DE SAUDE DA FAMILIA GUALDRAPAS</td>\n",
       "      <td>POVOADO DE GUALDRAPAS</td>\n",
       "      <td>GUALDRAPAS</td>\n",
       "    </tr>\n",
       "    <tr>\n",
       "      <th>22329</th>\n",
       "      <td>5334209</td>\n",
       "      <td>ES</td>\n",
       "      <td>320490</td>\n",
       "      <td>USF MORADA DO RIBEIRAO</td>\n",
       "      <td>RUA BOSQUE DAS OLIBEIRAS</td>\n",
       "      <td>MORADA DO RIBEIRAO</td>\n",
       "    </tr>\n",
       "    <tr>\n",
       "      <th>20619</th>\n",
       "      <td>3745295</td>\n",
       "      <td>MA</td>\n",
       "      <td>210540</td>\n",
       "      <td>UNIDADE BASICA DE SAUDE VILARINDO VILAR NUNES</td>\n",
       "      <td>RUA HUMBERTO DE CAMPOS</td>\n",
       "      <td>CENTRO</td>\n",
       "    </tr>\n",
       "    <tr>\n",
       "      <th>8448</th>\n",
       "      <td>2349019</td>\n",
       "      <td>PE</td>\n",
       "      <td>261070</td>\n",
       "      <td>UBS MANOEL CALDAS DE ARAUJO</td>\n",
       "      <td>RUA MIMOSO</td>\n",
       "      <td>ARTHUR LUNDGREN I</td>\n",
       "    </tr>\n",
       "  </tbody>\n",
       "</table>\n",
       "</div>"
      ],
      "text/plain": [
       "          CNES  UF    IBGE                                            NOME  \\\n",
       "32353  7342268  MG  316045                                   UBS ANA COSTA   \n",
       "21657  5020158  SP  352410        PSF ALCIDES GARCIA MESQUITA JUNIOR BICAO   \n",
       "26206  2045362  SP  354870                                UBS JORDANOPOLIS   \n",
       "24944  6510345  PA  150260      UNIDADE DE SAUDE DA FAMILIA DE JANGOLANDIA   \n",
       "17234  2771950  BA  290460  UNIDADE DE SAUDE DA FAMILIA RAIMUNDO FERNANDES   \n",
       "29785  7907281  CE  230440             UAPS RONALDO DE ALBUQUERQUE RIBEIRO   \n",
       "28537  7504853  RJ  330330   MMF DA TEIXEIRA DE FREITAS DR ANTONIO PECANHA   \n",
       "5951   2234742  RS  431642          POSTO DE SAUDE LINHA ARDENGHI INTERIOR   \n",
       "4627   2147777  MG  312970                           PSF OLAVO PINTO CUNHA   \n",
       "38746  2479745  CE  231350          UNIDADE DE SAUDE DA FAMILIA GUALDRAPAS   \n",
       "22329  5334209  ES  320490                          USF MORADA DO RIBEIRAO   \n",
       "20619  3745295  MA  210540   UNIDADE BASICA DE SAUDE VILARINDO VILAR NUNES   \n",
       "8448   2349019  PE  261070                     UBS MANOEL CALDAS DE ARAUJO   \n",
       "\n",
       "                               LOGRADOURO                BAIRRO  \n",
       "32353                COMUNIDADE DA CAROBA            ZONA RURAL  \n",
       "21657                        RUA LUIZ ARO  JARDIM INDEPENDENCIA  \n",
       "26206                    RUA OSWALDO CRUZ          JORDANOPOLIS  \n",
       "24944  AVENIDA NOSSA SENHORA DA CONCEICAO           JANGOLANDIA  \n",
       "17234                   VILA DE UBIRACABA            ZONA RURAL  \n",
       "29785                           AVENIDA I               GENIBAU  \n",
       "28537             RUA TEIXEIRA DE FREITAS               FONSECA  \n",
       "5951                       LINHA ARDENGHI              INTERIOR  \n",
       "4627             TRAVESSA JOAQUIM RIBEIRO            ZONA RURAL  \n",
       "38746               POVOADO DE GUALDRAPAS            GUALDRAPAS  \n",
       "22329            RUA BOSQUE DAS OLIBEIRAS    MORADA DO RIBEIRAO  \n",
       "20619              RUA HUMBERTO DE CAMPOS                CENTRO  \n",
       "8448                           RUA MIMOSO     ARTHUR LUNDGREN I  "
      ]
     },
     "execution_count": 72,
     "metadata": {},
     "output_type": "execute_result"
    }
   ],
   "source": [
    "df.sample(13)"
   ]
  },
  {
   "cell_type": "code",
   "execution_count": 73,
   "metadata": {},
   "outputs": [
    {
     "data": {
      "text/plain": [
       "UF\n",
       "AC     228\n",
       "AL     879\n",
       "AM     570\n",
       "AP     138\n",
       "BA    3722\n",
       "CE    2094\n",
       "DF     177\n",
       "ES     812\n",
       "GO    1307\n",
       "MA    1961\n",
       "MG    5043\n",
       "MS     602\n",
       "MT     891\n",
       "PA    1560\n",
       "PB    1463\n",
       "PE    2440\n",
       "PI    1096\n",
       "PR    1932\n",
       "RJ    1798\n",
       "RN     967\n",
       "RO     279\n",
       "RR     130\n",
       "RS    1904\n",
       "SC    1587\n",
       "SE     489\n",
       "SP    4954\n",
       "TO     431\n",
       "Name: NOME, dtype: int64"
      ]
     },
     "execution_count": 73,
     "metadata": {},
     "output_type": "execute_result"
    }
   ],
   "source": [
    "df.groupby(\"UF\")[\"NOME\"].nunique()"
   ]
  },
  {
   "cell_type": "code",
   "execution_count": 74,
   "metadata": {},
   "outputs": [
    {
     "data": {
      "text/plain": [
       "RR     130\n",
       "AP     138\n",
       "DF     177\n",
       "AC     228\n",
       "RO     281\n",
       "TO     433\n",
       "SE     490\n",
       "AM     572\n",
       "MS     606\n",
       "ES     814\n",
       "AL     884\n",
       "MT     905\n",
       "RN     989\n",
       "PI    1103\n",
       "GO    1315\n",
       "PB    1478\n",
       "PA    1585\n",
       "SC    1679\n",
       "RJ    1815\n",
       "RS    1983\n",
       "PR    2010\n",
       "MA    2020\n",
       "CE    2146\n",
       "PE    2506\n",
       "BA    3867\n",
       "SP    5032\n",
       "MG    5247\n",
       "Name: UF, dtype: int64"
      ]
     },
     "execution_count": 74,
     "metadata": {},
     "output_type": "execute_result"
    }
   ],
   "source": [
    "df[\"UF\"].value_counts(ascending=True)"
   ]
  },
  {
   "cell_type": "code",
   "execution_count": 75,
   "metadata": {},
   "outputs": [
    {
     "data": {
      "image/png": "[encoded data removed]",
      "text/plain": [
       "<Figure size 640x480 with 1 Axes>"
      ]
     },
     "metadata": {},
     "output_type": "display_data"
    }
   ],
   "source": [
    "grafico_uf= df[\"UF\"].value_counts(ascending=False).plot.bar(title=\"Número de Unidades Básicas de Saúde por Estado\", color=\"lightcoral\")\n",
    "plt.xlabel(\"UF\")\n",
    "plt.ylabel(\"Número de UBS\")\n",
    "plt.style.use(\"classic\");"
   ]
  },
  {
   "cell_type": "code",
   "execution_count": 89,
   "metadata": {},
   "outputs": [
    {
     "data": {
      "text/plain": [
       "array([520170, 260290, 291650, ..., 314950, 431275, 430470], dtype=int64)"
      ]
     },
     "execution_count": 89,
     "metadata": {},
     "output_type": "execute_result"
    }
   ],
   "source": [
    "df[\"IBGE\"].unique()"
   ]
  },
  {
   "cell_type": "code",
   "execution_count": 94,
   "metadata": {},
   "outputs": [],
   "source": [
    "municipio = {140005: \"Alto Alegre\",140002: \"Amajari\",140010:\"Boa Vista\",140015: \"Bonfim\",140017: \"Cantá\",140020: \"Caracaraí\",140023:\"Caroebe\",140028: \"Iracema\",140030:\"Mucajaí\",140040:\"Normandia\",140045: \"Pacaraima\",140047: \"Rorainópolis\",140050: \"São João da Baliza\",140060: \"São Luiz\",140070: \"Uiramutã\"}\n"
   ]
  },
  {
   "cell_type": "code",
   "execution_count": 95,
   "metadata": {},
   "outputs": [
    {
     "data": {
      "text/html": [
       "<div>\n",
       "<style scoped>\n",
       "    .dataframe tbody tr th:only-of-type {\n",
       "        vertical-align: middle;\n",
       "    }\n",
       "\n",
       "    .dataframe tbody tr th {\n",
       "        vertical-align: top;\n",
       "    }\n",
       "\n",
       "    .dataframe thead th {\n",
       "        text-align: right;\n",
       "    }\n",
       "</style>\n",
       "<table border=\"1\" class=\"dataframe\">\n",
       "  <thead>\n",
       "    <tr style=\"text-align: right;\">\n",
       "      <th></th>\n",
       "      <th>CNES</th>\n",
       "      <th>UF</th>\n",
       "      <th>IBGE</th>\n",
       "      <th>NOME</th>\n",
       "      <th>LOGRADOURO</th>\n",
       "      <th>BAIRRO</th>\n",
       "    </tr>\n",
       "  </thead>\n",
       "  <tbody>\n",
       "    <tr>\n",
       "      <th>13366</th>\n",
       "      <td>2566583</td>\n",
       "      <td>RR</td>\n",
       "      <td>Boa Vista</td>\n",
       "      <td>UNIDADE BASICA DE SAUDE SANTA LUZIA</td>\n",
       "      <td>RUA JOSE CASIMIRO DA SILVA</td>\n",
       "      <td>SANTA LUZIA</td>\n",
       "    </tr>\n",
       "    <tr>\n",
       "      <th>804</th>\n",
       "      <td>2995514</td>\n",
       "      <td>RR</td>\n",
       "      <td>Pacaraima</td>\n",
       "      <td>UBS COMUNIDADE DA LAGOA</td>\n",
       "      <td>RUA PRINCIAL</td>\n",
       "      <td>CENTRO</td>\n",
       "    </tr>\n",
       "    <tr>\n",
       "      <th>34081</th>\n",
       "      <td>2320274</td>\n",
       "      <td>RR</td>\n",
       "      <td>Cantá</td>\n",
       "      <td>CENTRO DE SAUDE MIGUEL ALVES DE MATOS</td>\n",
       "      <td>BR 432</td>\n",
       "      <td>CENTRO</td>\n",
       "    </tr>\n",
       "    <tr>\n",
       "      <th>7681</th>\n",
       "      <td>2320819</td>\n",
       "      <td>RR</td>\n",
       "      <td>Rorainópolis</td>\n",
       "      <td>UNIDADE BASICA DE SAUDE ANTONIO LUCAS DE SOUZA</td>\n",
       "      <td>VILA JUNDIA</td>\n",
       "      <td>CENTRO</td>\n",
       "    </tr>\n",
       "    <tr>\n",
       "      <th>32779</th>\n",
       "      <td>2744570</td>\n",
       "      <td>RR</td>\n",
       "      <td>Boa Vista</td>\n",
       "      <td>UNIDADE BASICA DE SAUDE DR SILVIO LOFEGO BOTELHO</td>\n",
       "      <td>AV MINAS GERAIS</td>\n",
       "      <td>DOS ESTADOS</td>\n",
       "    </tr>\n",
       "    <tr>\n",
       "      <th>13361</th>\n",
       "      <td>2566451</td>\n",
       "      <td>RR</td>\n",
       "      <td>Boa Vista</td>\n",
       "      <td>UNIDADE BASICA DE SAUDE SANTA TEREZA</td>\n",
       "      <td>RUA ARUANA</td>\n",
       "      <td>SANTA TEREZA</td>\n",
       "    </tr>\n",
       "    <tr>\n",
       "      <th>38109</th>\n",
       "      <td>3612848</td>\n",
       "      <td>RR</td>\n",
       "      <td>Cantá</td>\n",
       "      <td>CENTRO DE SAUDE ANTONIO GONCALVES VIEIRA</td>\n",
       "      <td>TABOCA</td>\n",
       "      <td>CENTRO</td>\n",
       "    </tr>\n",
       "    <tr>\n",
       "      <th>13671</th>\n",
       "      <td>2589966</td>\n",
       "      <td>RR</td>\n",
       "      <td>Bonfim</td>\n",
       "      <td>UBS VILENA</td>\n",
       "      <td>AV BRASIL</td>\n",
       "      <td>VILA VILENA</td>\n",
       "    </tr>\n",
       "    <tr>\n",
       "      <th>7672</th>\n",
       "      <td>2320053</td>\n",
       "      <td>RR</td>\n",
       "      <td>Bonfim</td>\n",
       "      <td>CENTRO DE SAUDE CRISTINO JOSE DA SILVA</td>\n",
       "      <td>RUA JOAO LOPES DE MAGALHAES</td>\n",
       "      <td>CENTRO</td>\n",
       "    </tr>\n",
       "    <tr>\n",
       "      <th>37135</th>\n",
       "      <td>5412161</td>\n",
       "      <td>RR</td>\n",
       "      <td>São João da Baliza</td>\n",
       "      <td>POSTO DE SAUDE NELSON DIAS FERNANDES</td>\n",
       "      <td>VICINAL 31</td>\n",
       "      <td>ZONA RURAL</td>\n",
       "    </tr>\n",
       "    <tr>\n",
       "      <th>13363</th>\n",
       "      <td>2566508</td>\n",
       "      <td>RR</td>\n",
       "      <td>Boa Vista</td>\n",
       "      <td>UNIDADE BASICA DE SAUDE DR SILVIO LEITE</td>\n",
       "      <td>RUA VICENTETAVARES DE MELO</td>\n",
       "      <td>SILVIO LEITE</td>\n",
       "    </tr>\n",
       "    <tr>\n",
       "      <th>23208</th>\n",
       "      <td>7865422</td>\n",
       "      <td>RR</td>\n",
       "      <td>Normandia</td>\n",
       "      <td>UNIDADE BASICA DE SAUDE EDIMAR OLIVEIRA DE SOUZA</td>\n",
       "      <td>RUA PEDRO CAMILO</td>\n",
       "      <td>CENTRO</td>\n",
       "    </tr>\n",
       "    <tr>\n",
       "      <th>7685</th>\n",
       "      <td>2320894</td>\n",
       "      <td>RR</td>\n",
       "      <td>Mucajaí</td>\n",
       "      <td>UNIDADE BASICA DE SAUDE EDITE CARDOSO</td>\n",
       "      <td>RUA RUFINO DE SOUSA</td>\n",
       "      <td>CENTRO</td>\n",
       "    </tr>\n",
       "    <tr>\n",
       "      <th>11611</th>\n",
       "      <td>2476681</td>\n",
       "      <td>RR</td>\n",
       "      <td>Caracaraí</td>\n",
       "      <td>CENTRO DE SAUDE NOVO PARAISO</td>\n",
       "      <td>BR 174</td>\n",
       "      <td>INTERIOR</td>\n",
       "    </tr>\n",
       "    <tr>\n",
       "      <th>7678</th>\n",
       "      <td>2320568</td>\n",
       "      <td>RR</td>\n",
       "      <td>Pacaraima</td>\n",
       "      <td>URF MARIA DOS ANJOS PIMENTEL GUERREIRO</td>\n",
       "      <td>MONTE RORAIMA</td>\n",
       "      <td>VILA NOVA</td>\n",
       "    </tr>\n",
       "    <tr>\n",
       "      <th>33350</th>\n",
       "      <td>7804547</td>\n",
       "      <td>RR</td>\n",
       "      <td>São João da Baliza</td>\n",
       "      <td>UNIDADE BASICA DE SAUDE JOAO MAIA DA SILVA</td>\n",
       "      <td>RUA JOAO MAIA DA SILVA</td>\n",
       "      <td>UNIVERSO</td>\n",
       "    </tr>\n",
       "    <tr>\n",
       "      <th>13365</th>\n",
       "      <td>2566540</td>\n",
       "      <td>RR</td>\n",
       "      <td>Boa Vista</td>\n",
       "      <td>UNIDADE BASICA DE SAUDE CAMBARA</td>\n",
       "      <td>RUA RAIMUNDO MENDES DE OLIVEIRA</td>\n",
       "      <td>CAMBARA</td>\n",
       "    </tr>\n",
       "    <tr>\n",
       "      <th>7671</th>\n",
       "      <td>2319969</td>\n",
       "      <td>RR</td>\n",
       "      <td>Alto Alegre</td>\n",
       "      <td>CENTRO DE SAUDE ANA PEREIRA</td>\n",
       "      <td>RUA JOAO 23</td>\n",
       "      <td>CENTRO</td>\n",
       "    </tr>\n",
       "    <tr>\n",
       "      <th>16688</th>\n",
       "      <td>2744546</td>\n",
       "      <td>RR</td>\n",
       "      <td>Boa Vista</td>\n",
       "      <td>UNIDADE BASICA DE SAUDE PROF MARIANO DE ANDRADE</td>\n",
       "      <td>AVENIDA DECO FONTELIS</td>\n",
       "      <td>CARANA</td>\n",
       "    </tr>\n",
       "    <tr>\n",
       "      <th>820</th>\n",
       "      <td>81957</td>\n",
       "      <td>RR</td>\n",
       "      <td>Bonfim</td>\n",
       "      <td>UBS TUXAUA FRANCISCO AGOSTINHO DE OLIVEIRA COM...</td>\n",
       "      <td>COMUNIDADE INDIGENA JACAMIM</td>\n",
       "      <td>COMUNIDADE INDIGENA</td>\n",
       "    </tr>\n",
       "  </tbody>\n",
       "</table>\n",
       "</div>"
      ],
      "text/plain": [
       "          CNES  UF                IBGE  \\\n",
       "13366  2566583  RR           Boa Vista   \n",
       "804    2995514  RR           Pacaraima   \n",
       "34081  2320274  RR               Cantá   \n",
       "7681   2320819  RR        Rorainópolis   \n",
       "32779  2744570  RR           Boa Vista   \n",
       "13361  2566451  RR           Boa Vista   \n",
       "38109  3612848  RR               Cantá   \n",
       "13671  2589966  RR              Bonfim   \n",
       "7672   2320053  RR              Bonfim   \n",
       "37135  5412161  RR  São João da Baliza   \n",
       "13363  2566508  RR           Boa Vista   \n",
       "23208  7865422  RR           Normandia   \n",
       "7685   2320894  RR             Mucajaí   \n",
       "11611  2476681  RR           Caracaraí   \n",
       "7678   2320568  RR           Pacaraima   \n",
       "33350  7804547  RR  São João da Baliza   \n",
       "13365  2566540  RR           Boa Vista   \n",
       "7671   2319969  RR         Alto Alegre   \n",
       "16688  2744546  RR           Boa Vista   \n",
       "820      81957  RR              Bonfim   \n",
       "\n",
       "                                                    NOME  \\\n",
       "13366                UNIDADE BASICA DE SAUDE SANTA LUZIA   \n",
       "804                              UBS COMUNIDADE DA LAGOA   \n",
       "34081              CENTRO DE SAUDE MIGUEL ALVES DE MATOS   \n",
       "7681      UNIDADE BASICA DE SAUDE ANTONIO LUCAS DE SOUZA   \n",
       "32779   UNIDADE BASICA DE SAUDE DR SILVIO LOFEGO BOTELHO   \n",
       "13361               UNIDADE BASICA DE SAUDE SANTA TEREZA   \n",
       "38109           CENTRO DE SAUDE ANTONIO GONCALVES VIEIRA   \n",
       "13671                                         UBS VILENA   \n",
       "7672              CENTRO DE SAUDE CRISTINO JOSE DA SILVA   \n",
       "37135               POSTO DE SAUDE NELSON DIAS FERNANDES   \n",
       "13363            UNIDADE BASICA DE SAUDE DR SILVIO LEITE   \n",
       "23208   UNIDADE BASICA DE SAUDE EDIMAR OLIVEIRA DE SOUZA   \n",
       "7685               UNIDADE BASICA DE SAUDE EDITE CARDOSO   \n",
       "11611                       CENTRO DE SAUDE NOVO PARAISO   \n",
       "7678              URF MARIA DOS ANJOS PIMENTEL GUERREIRO   \n",
       "33350         UNIDADE BASICA DE SAUDE JOAO MAIA DA SILVA   \n",
       "13365                    UNIDADE BASICA DE SAUDE CAMBARA   \n",
       "7671                         CENTRO DE SAUDE ANA PEREIRA   \n",
       "16688    UNIDADE BASICA DE SAUDE PROF MARIANO DE ANDRADE   \n",
       "820    UBS TUXAUA FRANCISCO AGOSTINHO DE OLIVEIRA COM...   \n",
       "\n",
       "                            LOGRADOURO               BAIRRO  \n",
       "13366       RUA JOSE CASIMIRO DA SILVA          SANTA LUZIA  \n",
       "804                       RUA PRINCIAL               CENTRO  \n",
       "34081                           BR 432               CENTRO  \n",
       "7681                       VILA JUNDIA               CENTRO  \n",
       "32779                  AV MINAS GERAIS          DOS ESTADOS  \n",
       "13361                       RUA ARUANA         SANTA TEREZA  \n",
       "38109                           TABOCA               CENTRO  \n",
       "13671                        AV BRASIL          VILA VILENA  \n",
       "7672       RUA JOAO LOPES DE MAGALHAES               CENTRO  \n",
       "37135                       VICINAL 31           ZONA RURAL  \n",
       "13363       RUA VICENTETAVARES DE MELO         SILVIO LEITE  \n",
       "23208                 RUA PEDRO CAMILO               CENTRO  \n",
       "7685               RUA RUFINO DE SOUSA               CENTRO  \n",
       "11611                           BR 174             INTERIOR  \n",
       "7678                     MONTE RORAIMA            VILA NOVA  \n",
       "33350           RUA JOAO MAIA DA SILVA             UNIVERSO  \n",
       "13365  RUA RAIMUNDO MENDES DE OLIVEIRA              CAMBARA  \n",
       "7671                       RUA JOAO 23               CENTRO  \n",
       "16688            AVENIDA DECO FONTELIS               CARANA  \n",
       "820        COMUNIDADE INDIGENA JACAMIM  COMUNIDADE INDIGENA  "
      ]
     },
     "execution_count": 95,
     "metadata": {},
     "output_type": "execute_result"
    }
   ],
   "source": [
    "df[\"IBGE\"] = df[\"IBGE\"].replace(municipio)\n",
    "roraima = df.loc[df[\"UF\"]==\"RR\"]\n",
    "roraima.sample(20)"
   ]
  },
  {
   "cell_type": "code",
   "execution_count": 96,
   "metadata": {},
   "outputs": [
    {
     "data": {
      "text/plain": [
       "Boa Vista             45\n",
       "Bonfim                12\n",
       "Pacaraima             11\n",
       "Rorainópolis          11\n",
       "Caracaraí              9\n",
       "Mucajaí                8\n",
       "Amajari                7\n",
       "Alto Alegre            6\n",
       "Uiramutã               4\n",
       "Cantá                  4\n",
       "Normandia              3\n",
       "Caroebe                3\n",
       "São João da Baliza     3\n",
       "Iracema                3\n",
       "São Luiz               1\n",
       "Name: IBGE, dtype: int64"
      ]
     },
     "execution_count": 96,
     "metadata": {},
     "output_type": "execute_result"
    }
   ],
   "source": [
    "roraima[\"IBGE\"].value_counts(ascending=False)"
   ]
  },
  {
   "cell_type": "code",
   "execution_count": 103,
   "metadata": {},
   "outputs": [
    {
     "data": {
      "image/png": "[encoded data removed]",
      "text/plain": [
       "<Figure size 640x480 with 1 Axes>"
      ]
     },
     "metadata": {},
     "output_type": "display_data"
    }
   ],
   "source": [
    "roraima[\"IBGE\"].value_counts(ascending=True).plot.barh(title=\"Distribuição de Unidades Básicas de saúde em Roraima\", color=\"lightcoral\")\n",
    "plt.xlabel(\"Número de UBS\")\n",
    "plt.ylabel(\"Município\");"
   ]
  },
  {
   "cell_type": "code",
   "execution_count": 81,
   "metadata": {},
   "outputs": [
    {
     "data": {
      "text/plain": [
       "0                  RUA H\n",
       "1                 RUA 17\n",
       "2                 RUA 02\n",
       "3    RUA MANOEL DOMINGOS\n",
       "4                 RUA 01\n",
       "Name: LOGRADOURO, dtype: object"
      ]
     },
     "execution_count": 81,
     "metadata": {},
     "output_type": "execute_result"
    }
   ],
   "source": [
    "log = df[\"LOGRADOURO\"].str.slice(0,19)\n",
    "\n",
    "log.head()"
   ]
  },
  {
   "cell_type": "code",
   "execution_count": 82,
   "metadata": {},
   "outputs": [],
   "source": [
    "log_comunidade = log.loc[log == \"COMUNIDADE INDIGENA\"]"
   ]
  },
  {
   "cell_type": "code",
   "execution_count": 83,
   "metadata": {},
   "outputs": [
    {
     "name": "stdout",
     "output_type": "stream",
     "text": [
      "<class 'pandas.core.series.Series'>\n",
      "Int64Index: 12 entries, 818 to 40022\n",
      "Series name: LOGRADOURO\n",
      "Non-Null Count  Dtype \n",
      "--------------  ----- \n",
      "12 non-null     object\n",
      "dtypes: object(1)\n",
      "memory usage: 192.0+ bytes\n"
     ]
    }
   ],
   "source": [
    "log_comunidade.info()"
   ]
  },
  {
   "cell_type": "code",
   "execution_count": null,
   "metadata": {},
   "outputs": [],
   "source": []
  }
 ],
 "metadata": {
  "kernelspec": {
   "display_name": "Python 3.10.8 64-bit",
   "language": "python",
   "name": "python3"
  },
  "language_info": {
   "codemirror_mode": {
    "name": "ipython",
    "version": 3
   },
   "file_extension": ".py",
   "mimetype": "text/x-python",
   "name": "python",
   "nbconvert_exporter": "python",
   "pygments_lexer": "ipython3",
   "version": "3.10.8"
  },
  "orig_nbformat": 4,
  "vscode": {
   "interpreter": {
    "hash": "0101e9626893dd5715b7107fc2261c5586ab063672fab4e9023765b77282d932"
   }
  }
 },
 "nbformat": 4,
 "nbformat_minor": 2
}
